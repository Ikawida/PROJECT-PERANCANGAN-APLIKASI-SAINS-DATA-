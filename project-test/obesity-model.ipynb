{
 "cells": [
  {
   "cell_type": "code",
   "execution_count": 13,
   "id": "d05b0025",
   "metadata": {},
   "outputs": [],
   "source": [
    "import pandas as pd\n",
    "import joblib\n",
    "import numpy as np\n",
    "\n",
    "from sklearn.model_selection import train_test_split\n",
    "from sklearn.preprocessing import StandardScaler, OneHotEncoder, LabelEncoder\n",
    "from sklearn.compose import ColumnTransformer\n",
    "from sklearn.linear_model import LogisticRegression\n",
    "from sklearn.metrics import accuracy_score, classification_report\n",
    "from sklearn.pipeline import Pipeline"
   ]
  },
  {
   "cell_type": "markdown",
   "id": "603ffcf1",
   "metadata": {},
   "source": [
    "Load data"
   ]
  },
  {
   "cell_type": "code",
   "execution_count": 5,
   "id": "8e4c653e",
   "metadata": {},
   "outputs": [
    {
     "name": "stdout",
     "output_type": "stream",
     "text": [
      "Data loaded successfully.\n",
      "First 5 rows of the dataset:\n",
      "   Age  Gender      Height     Weight        BMI  PhysicalActivityLevel  \\\n",
      "0   56    Male  173.575262  71.982051  23.891783                      4   \n",
      "1   69    Male  164.127306  89.959256  33.395209                      2   \n",
      "2   46  Female  168.072202  72.930629  25.817737                      4   \n",
      "3   32    Male  168.459633  84.886912  29.912247                      3   \n",
      "4   60    Male  183.568568  69.038945  20.487903                      3   \n",
      "\n",
      "  ObesityCategory  \n",
      "0   Normal weight  \n",
      "1           Obese  \n",
      "2      Overweight  \n",
      "3      Overweight  \n",
      "4   Normal weight  \n",
      "\n",
      "Shape of the dataset: (1000, 7)\n",
      "\n",
      "Missing values in the dataset:\n",
      "Age                      0\n",
      "Gender                   0\n",
      "Height                   0\n",
      "Weight                   0\n",
      "BMI                      0\n",
      "PhysicalActivityLevel    0\n",
      "ObesityCategory          0\n",
      "dtype: int64\n"
     ]
    }
   ],
   "source": [
    "file_path = \"dataset/obesity_data.csv\"\n",
    "try:\n",
    "    data = pd.read_csv(file_path)\n",
    "except FileNotFoundError:\n",
    "    print(f\"Error: The file {file_path} was not found.\")\n",
    "    exit()\n",
    "\n",
    "print(\"Data loaded successfully.\")\n",
    "print(\"First 5 rows of the dataset:\")\n",
    "print(data.head())\n",
    "print(\"\\nShape of the dataset:\", data.shape)\n",
    "print(\"\\nMissing values in the dataset:\")\n",
    "print(data.isnull().sum())"
   ]
  },
  {
   "cell_type": "markdown",
   "id": "2a379ff7",
   "metadata": {},
   "source": [
    "Define features (x) and target (y)"
   ]
  },
  {
   "cell_type": "code",
   "execution_count": 6,
   "id": "996e2177",
   "metadata": {},
   "outputs": [],
   "source": [
    "X = data.drop(\"ObesityCategory\", axis=1)\n",
    "y = data[\"ObesityCategory\"]"
   ]
  },
  {
   "cell_type": "markdown",
   "id": "0b5d4101",
   "metadata": {},
   "source": [
    "### Pre-process data"
   ]
  },
  {
   "cell_type": "markdown",
   "id": "8cfc2db2",
   "metadata": {},
   "source": [
    "Identify categorical and numerical features"
   ]
  },
  {
   "cell_type": "code",
   "execution_count": 16,
   "id": "7a50b159",
   "metadata": {},
   "outputs": [],
   "source": [
    "categorical_features = ['Gender']\n",
    "numerical_features = ['Age', 'Height', 'Weight', 'BMI', 'PhysicalActivityLevel']"
   ]
  },
  {
   "cell_type": "markdown",
   "id": "31d2af00",
   "metadata": {},
   "source": [
    "Create preprocessing pipelines for numerical and categorical features"
   ]
  },
  {
   "cell_type": "code",
   "execution_count": 17,
   "id": "f9cdeedf",
   "metadata": {},
   "outputs": [],
   "source": [
    "numerical_pipeline = Pipeline([\n",
    "    ('scaler', StandardScaler())\n",
    "])\n",
    "\n",
    "categorical_pipeline = Pipeline([\n",
    "    ('onehot', OneHotEncoder(handle_unknown='ignore'))\n",
    "])"
   ]
  },
  {
   "cell_type": "markdown",
   "id": "51abcd6b",
   "metadata": {},
   "source": [
    "Create a column transformer to apply different transformations to different columns"
   ]
  },
  {
   "cell_type": "code",
   "execution_count": 18,
   "id": "28cfea56",
   "metadata": {},
   "outputs": [],
   "source": [
    "preprocessor = ColumnTransformer([\n",
    "    ('numerical', numerical_pipeline, numerical_features),\n",
    "    ('categorical', categorical_pipeline, categorical_features)\n",
    "], remainder='passthrough')"
   ]
  },
  {
   "cell_type": "markdown",
   "id": "4d7b1d79",
   "metadata": {},
   "source": [
    "Encode the target variable"
   ]
  },
  {
   "cell_type": "code",
   "execution_count": 19,
   "id": "a922d754",
   "metadata": {},
   "outputs": [
    {
     "name": "stdout",
     "output_type": "stream",
     "text": [
      "\n",
      "Target variable classes: ['Normal weight' 'Obese' 'Overweight' 'Underweight']\n"
     ]
    }
   ],
   "source": [
    "label_encoder = LabelEncoder()\n",
    "y_encoded = label_encoder.fit_transform(y)\n",
    "print(\"\\nTarget variable classes:\", label_encoder.classes_)"
   ]
  },
  {
   "cell_type": "markdown",
   "id": "ec8c90e0",
   "metadata": {},
   "source": [
    "### Train Model"
   ]
  },
  {
   "cell_type": "markdown",
   "id": "2d0dab3d",
   "metadata": {},
   "source": [
    "Split data into training and testing sets"
   ]
  },
  {
   "cell_type": "code",
   "execution_count": 20,
   "id": "4c7fcd4d",
   "metadata": {},
   "outputs": [
    {
     "name": "stdout",
     "output_type": "stream",
     "text": [
      "\n",
      "Training set shape: X_train=(800, 6), y_train=(800,)\n",
      "Test set shape: X_test=(200, 6), y_test=(200,)\n"
     ]
    }
   ],
   "source": [
    "X_train, X_test, y_train, y_test = train_test_split(X, y_encoded, test_size=0.2, random_state=42, stratify=y_encoded)\n",
    "\n",
    "print(f\"\\nTraining set shape: X_train={X_train.shape}, y_train={y_train.shape}\")\n",
    "print(f\"Test set shape: X_test={X_test.shape}, y_test={y_test.shape}\")"
   ]
  },
  {
   "cell_type": "markdown",
   "id": "236993df",
   "metadata": {},
   "source": [
    "Create the full pipeline: preprocessor + model"
   ]
  },
  {
   "cell_type": "code",
   "execution_count": 21,
   "id": "9fc1a9b4",
   "metadata": {},
   "outputs": [],
   "source": [
    "model_pipeline = Pipeline([\n",
    "    ('preprocessor', preprocessor),\n",
    "    ('classifier', LogisticRegression(solver='liblinear', random_state=42, max_iter=1000))\n",
    "])"
   ]
  },
  {
   "cell_type": "markdown",
   "id": "cc50fa95",
   "metadata": {},
   "source": [
    "Train the model"
   ]
  },
  {
   "cell_type": "code",
   "execution_count": 22,
   "id": "78df2742",
   "metadata": {},
   "outputs": [
    {
     "name": "stdout",
     "output_type": "stream",
     "text": [
      "\n",
      "Training the model...\n",
      "Model training complete.\n"
     ]
    }
   ],
   "source": [
    "print(\"\\nTraining the model...\")\n",
    "model_pipeline.fit(X_train, y_train)\n",
    "print(\"Model training complete.\")"
   ]
  },
  {
   "cell_type": "markdown",
   "id": "ce1d3d8c",
   "metadata": {},
   "source": [
    "### Evaluate Model"
   ]
  },
  {
   "cell_type": "code",
   "execution_count": 23,
   "id": "c5deb037",
   "metadata": {},
   "outputs": [
    {
     "name": "stdout",
     "output_type": "stream",
     "text": [
      "\n",
      "Evaluating the model...\n",
      "\n",
      "Test Accuracy: 0.8950\n",
      "\n",
      "Classification Report on Test Set:\n",
      "               precision    recall  f1-score   support\n",
      "\n",
      "Normal weight       0.79      0.99      0.88        74\n",
      "        Obese       1.00      0.97      0.99        38\n",
      "   Overweight       0.96      0.75      0.84        59\n",
      "  Underweight       1.00      0.86      0.93        29\n",
      "\n",
      "     accuracy                           0.90       200\n",
      "    macro avg       0.94      0.89      0.91       200\n",
      " weighted avg       0.91      0.90      0.89       200\n",
      "\n"
     ]
    }
   ],
   "source": [
    "print(\"\\nEvaluating the model...\")\n",
    "y_pred_test = model_pipeline.predict(X_test)\n",
    "test_accuracy = accuracy_score(y_test, y_pred_test)\n",
    "print(f\"\\nTest Accuracy: {test_accuracy:.4f}\")\n",
    "print(\"\\nClassification Report on Test Set:\")\n",
    "report = classification_report(y_test, y_pred_test, target_names=label_encoder.classes_)\n",
    "print(report)"
   ]
  },
  {
   "cell_type": "markdown",
   "id": "dd7944b2",
   "metadata": {},
   "source": [
    "Save Model and Preprocessor"
   ]
  },
  {
   "cell_type": "code",
   "execution_count": 24,
   "id": "4f283446",
   "metadata": {},
   "outputs": [
    {
     "name": "stdout",
     "output_type": "stream",
     "text": [
      "\n",
      "Saving the model to obesity_model.pkl...\n",
      "Model saved.\n",
      "\n",
      "Saving the preprocessor to obesity_preprocessor.pkl...\n",
      "Preprocessor saved.\n",
      "\n",
      "Saving the label encoder to obesity_target_encoder.pkl...\n",
      "Label encoder saved.\n"
     ]
    }
   ],
   "source": [
    "model_filename = \"obesity_model.pkl\"\n",
    "preprocessor_filename = \"obesity_preprocessor.pkl\"\n",
    "label_encoder_filename = \"obesity_target_encoder.pkl\"\n",
    "\n",
    "print(f\"\\nSaving the model to {model_filename}...\")\n",
    "joblib.dump(model_pipeline.named_steps['classifier'], model_filename)\n",
    "print(\"Model saved.\")\n",
    "\n",
    "print(f\"\\nSaving the preprocessor to {preprocessor_filename}...\")\n",
    "joblib.dump(preprocessor, preprocessor_filename) \n",
    "print(\"Preprocessor saved.\")\n",
    "\n",
    "print(f\"\\nSaving the label encoder to {label_encoder_filename}...\")\n",
    "joblib.dump(label_encoder, label_encoder_filename)\n",
    "print(\"Label encoder saved.\")"
   ]
  },
  {
   "cell_type": "markdown",
   "id": "6623fc2c",
   "metadata": {},
   "source": [
    "### Test Saved Model and Preprocessor"
   ]
  },
  {
   "cell_type": "code",
   "execution_count": 25,
   "id": "d0df8ac4",
   "metadata": {},
   "outputs": [
    {
     "name": "stdout",
     "output_type": "stream",
     "text": [
      "\n",
      "--- Testing Saved Model and Preprocessor ---\n",
      "Model, preprocessor, and label encoder loaded successfully.\n",
      "\n",
      "Sample Raw Data (first row of X):\n",
      "   Age Gender      Height     Weight        BMI  PhysicalActivityLevel\n",
      "0   56   Male  173.575262  71.982051  23.891783                      4\n",
      "\n",
      "Sample Data after Preprocessing:\n",
      "[[ 0.36363016  0.32334546  0.0421252  -0.16013316  1.29584717  0.\n",
      "   1.        ]]\n",
      "\n",
      "Encoded Prediction for Sample Data: 0\n",
      "Predicted Obesity Category for Sample Data: Normal weight\n",
      "Prediction Probabilities: [0.62356259 0.00117434 0.36997011 0.00529296]\n",
      "Corresponding classes: ['Normal weight' 'Obese' 'Overweight' 'Underweight']\n",
      "\n",
      "--- Example of creating a new sample from scratch ---\n",
      "\n",
      "New Sample Raw Data (DataFrame):\n",
      "   Age Gender  Height  Weight    BMI  PhysicalActivityLevel\n",
      "0   30   Male     175      70  22.86                      3\n",
      "\n",
      "New Sample Data after Preprocessing:\n",
      "[[-1.07511957  0.46069188 -0.08502205 -0.32606943  0.39360371  0.\n",
      "   1.        ]]\n",
      "\n",
      "Predicted Obesity Category for New Sample: Normal weight\n",
      "Prediction Probabilities for New Sample: [6.60855942e-01 3.51169005e-04 3.28243162e-01 1.05497271e-02]\n",
      "\n",
      "Pipeline script execution finished.\n"
     ]
    }
   ],
   "source": [
    "print(\"\\n--- Testing Saved Model and Preprocessor ---\")\n",
    "loaded_model = joblib.load(model_filename)\n",
    "loaded_preprocessor = joblib.load(preprocessor_filename)\n",
    "loaded_label_encoder = joblib.load(label_encoder_filename)\n",
    "print(\"Model, preprocessor, and label encoder loaded successfully.\")\n",
    "\n",
    "sample_raw_data = X.iloc[[0]].copy()\n",
    "\n",
    "print(\"\\nSample Raw Data (first row of X):\")\n",
    "print(sample_raw_data)\n",
    "\n",
    "sample_data_processed = loaded_preprocessor.transform(sample_raw_data)\n",
    "print(\"\\nSample Data after Preprocessing:\")\n",
    "print(sample_data_processed)\n",
    "\n",
    "prediction_encoded = loaded_model.predict(sample_data_processed)\n",
    "prediction_proba = loaded_model.predict_proba(sample_data_processed)\n",
    "\n",
    "prediction_label = loaded_label_encoder.inverse_transform(prediction_encoded)\n",
    "\n",
    "print(f\"\\nEncoded Prediction for Sample Data: {prediction_encoded[0]}\")\n",
    "print(f\"Predicted Obesity Category for Sample Data: {prediction_label[0]}\")\n",
    "print(f\"Prediction Probabilities: {prediction_proba[0]}\")\n",
    "print(\"Corresponding classes:\", loaded_label_encoder.classes_)\n",
    "\n",
    "print(\"\\n--- Example of creating a new sample from scratch ---\")\n",
    "new_sample_dict = {\n",
    "    'Age': [30],\n",
    "    'Gender': ['Male'], \n",
    "    'Height': [175],   \n",
    "    'Weight': [70],    \n",
    "    'BMI': [22.86],  \n",
    "    'PhysicalActivityLevel': [3] \n",
    "}\n",
    "\n",
    "new_sample_df = pd.DataFrame(new_sample_dict, columns=X.columns)\n",
    "\n",
    "print(\"\\nNew Sample Raw Data (DataFrame):\")\n",
    "print(new_sample_df)\n",
    "\n",
    "new_sample_processed = loaded_preprocessor.transform(new_sample_df)\n",
    "print(\"\\nNew Sample Data after Preprocessing:\")\n",
    "print(new_sample_processed)\n",
    "\n",
    "new_prediction_encoded = loaded_model.predict(new_sample_processed)\n",
    "new_prediction_label = loaded_label_encoder.inverse_transform(new_prediction_encoded)\n",
    "new_prediction_proba = loaded_model.predict_proba(new_sample_processed)\n",
    "\n",
    "print(f\"\\nPredicted Obesity Category for New Sample: {new_prediction_label[0]}\")\n",
    "print(f\"Prediction Probabilities for New Sample: {new_prediction_proba[0]}\")\n",
    "\n",
    "print(\"\\nPipeline script execution finished.\")"
   ]
  }
 ],
 "metadata": {
  "kernelspec": {
   "display_name": "Python 3",
   "language": "python",
   "name": "python3"
  },
  "language_info": {
   "codemirror_mode": {
    "name": "ipython",
    "version": 3
   },
   "file_extension": ".py",
   "mimetype": "text/x-python",
   "name": "python",
   "nbconvert_exporter": "python",
   "pygments_lexer": "ipython3",
   "version": "3.12.6"
  }
 },
 "nbformat": 4,
 "nbformat_minor": 5
}
